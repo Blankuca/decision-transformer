{
 "cells": [
  {
   "cell_type": "code",
   "execution_count": 1,
   "metadata": {},
   "outputs": [],
   "source": [
    "import gym\n",
    "import torch\n",
    "import lbforaging\n",
    "import decision_transformer.models.decision_transformer\n",
    "import numpy as np\n",
    "from itertools import product\n",
    "\n",
    "import pickle\n",
    "import matplotlib.pyplot as plt\n",
    "%matplotlib inline\n",
    "from IPython import display"
   ]
  },
  {
   "cell_type": "code",
   "execution_count": 2,
   "metadata": {},
   "outputs": [],
   "source": [
    "env_name = \"lbforaging_separate-medium-v2\"\n",
    "\n",
    "dataset_path = f'data/{env_name}.pkl'\n",
    "with open(dataset_path, 'rb') as f:\n",
    "    trajectories = pickle.load(f)\n",
    "    \n",
    "states, traj_lens, returns = [], [], []\n",
    "for path in trajectories:\n",
    "    states.append(path['states'])\n",
    "\n",
    "# used for input normalization\n",
    "states = np.concatenate(states, axis=0)\n",
    "state_mean_global, state_std_global = np.mean(states, axis=0), np.std(states, axis=0) + 1e-6"
   ]
  },
  {
   "cell_type": "code",
   "execution_count": 27,
   "metadata": {},
   "outputs": [],
   "source": [
    "path_to_model = \"/work3/s174437/Blankuca/decision-transformer/dataset/saved_models/model_cooperative.pt\""
   ]
  },
  {
   "cell_type": "code",
   "execution_count": 34,
   "metadata": {},
   "outputs": [],
   "source": [
    "behavior = \"cooperative\"\n",
    "env = gym.make(\"Foraging-8x8-2p-3f-v2\")\n",
    "state_dim = env.observation_space[0].shape[0] * 2\n",
    "act_dim = 1\n",
    "device='cpu'\n",
    "model = torch.load(path_to_model, map_location=torch.device('cpu'))\n",
    "max_ep_len=10\n",
    "scale=1\n",
    "target_return=torch.Tensor([0.5,0.5], device=device)\n",
    "mode='normal'\n",
    "state_mean=state_mean_global\n",
    "state_std=state_std_global"
   ]
  },
  {
   "cell_type": "code",
   "execution_count": 35,
   "metadata": {},
   "outputs": [
    {
     "name": "stderr",
     "output_type": "stream",
     "text": [
      "/tmp/ipykernel_453/2872041258.py:22: UserWarning: To copy construct from a tensor, it is recommended to use sourceTensor.clone().detach() or sourceTensor.clone().detach().requires_grad_(True), rather than torch.tensor(sourceTensor).\n",
      "  target_return = torch.tensor(ep_return, device=device, dtype=torch.float32).reshape(num_agents,1, 1)\n"
     ]
    }
   ],
   "source": [
    "model.eval()\n",
    "model.to(device=device)\n",
    "\n",
    "num_agents = env.n_agents\n",
    "\n",
    "state_mean = torch.from_numpy(state_mean).to(device=device)\n",
    "state_std = torch.from_numpy(state_std).to(device=device)\n",
    "\n",
    "states = env.reset()\n",
    "env_global = env\n",
    "state = np.concatenate(states)\n",
    "if mode == 'noise':\n",
    "    state = state + np.random.normal(0, 0.1, size=state.shape)\n",
    "\n",
    "# we keep all the histories on the device\n",
    "# note that the latest action and reward will be \"padding\"\n",
    "states = torch.from_numpy(state).reshape(1, state_dim).to(device=device, dtype=torch.float32)\n",
    "actions = torch.zeros((0, act_dim), device=device, dtype=torch.float32)\n",
    "rewards = torch.zeros(num_agents, 0, device=device, dtype=torch.float32)\n",
    "\n",
    "ep_return = target_return\n",
    "target_return = torch.tensor(ep_return, device=device, dtype=torch.float32).reshape(num_agents,1, 1)\n",
    "timesteps = torch.tensor(0, device=device, dtype=torch.long).reshape(1, 1)\n",
    "\n",
    "sim_states = []\n",
    "\n",
    "avail_actions = list(range(len(env.action_set) + 1))\n",
    "combinations = list(product(avail_actions, repeat=num_agents))\n",
    "enc_action_to_actions = {i:comb for i,comb in enumerate(combinations)}\n",
    "actions_to_enc_actions = {comb:i for i,comb in enumerate(combinations)}\n",
    "\n",
    "episode_return, episode_length = torch.zeros(num_agents, device=device, dtype=torch.float32), 0\n",
    "\n",
    "record_actions = []\n",
    "for t in range(max_ep_len):\n",
    "\n",
    "    # add padding\n",
    "    actions = torch.cat([actions, torch.zeros((1, act_dim), device=device)], dim=0)\n",
    "    rewards = torch.cat([rewards, torch.zeros(num_agents,1, device=device)], dim=1)\n",
    "\n",
    "\n",
    "    action = model.get_action(\n",
    "        (states.to(dtype=torch.float32) - state_mean) / state_std,\n",
    "        actions.to(dtype=torch.float32),\n",
    "        rewards.to(dtype=torch.float32),\n",
    "        target_return.to(dtype=torch.float32),\n",
    "        timesteps.to(dtype=torch.long),\n",
    "    )\n",
    "    action = action.argmax(dim=1).tolist()\n",
    "    record_actions.append(action)\n",
    "    actions[-1] = actions_to_enc_actions[tuple(action)]\n",
    "\n",
    "    state, reward, done, _ = env.step(action)\n",
    "    state = np.concatenate(state)\n",
    "\n",
    "    reward = torch.FloatTensor(reward).to(device=device)\n",
    "    episode_return = episode_return.add(reward)\n",
    "    episode_length += 1\n",
    "    \n",
    "    done = all(done)\n",
    "\n",
    "    cur_state = torch.from_numpy(state).to(device=device).reshape(1, state_dim)\n",
    "    states = torch.cat([states, cur_state], dim=0)\n",
    "    rewards[:,-1] = reward\n",
    "\n",
    "    if mode != 'delayed':\n",
    "        pred_return = target_return[:,0,-1].sub(reward/scale)\n",
    "    else:\n",
    "        pred_return = target_return[:,0,-1]\n",
    "    target_return = torch.cat(\n",
    "        [target_return, pred_return.reshape(-1, 1, 1)], dim=1)\n",
    "    timesteps = torch.cat(\n",
    "        [timesteps,\n",
    "            torch.ones((1, 1), device=device, dtype=torch.long) * (t+1)], dim=1)\n",
    "\n",
    "    if done:\n",
    "        break"
   ]
  },
  {
   "cell_type": "code",
   "execution_count": 36,
   "metadata": {},
   "outputs": [
    {
     "data": {
      "text/plain": [
       "10"
      ]
     },
     "execution_count": 36,
     "metadata": {},
     "output_type": "execute_result"
    }
   ],
   "source": [
    "len(actions)"
   ]
  },
  {
   "cell_type": "code",
   "execution_count": 37,
   "metadata": {},
   "outputs": [],
   "source": [
    "def show_state(env, step=0, info=\"\"):\n",
    "    plt.figure(3)\n",
    "    plt.clf()\n",
    "    plt.imshow(env.render(mode='rgb_array'))\n",
    "    plt.title(\"%s | Step: %d %s\" % (\"env\",step, info))\n",
    "    plt.axis('off')\n",
    "\n",
    "    display.clear_output(wait=True)\n",
    "    display.display(plt.gcf())"
   ]
  },
  {
   "cell_type": "code",
   "execution_count": 38,
   "metadata": {},
   "outputs": [
    {
     "data": {
      "image/png": "[encoded data removed]",
      "text/plain": [
       "<Figure size 432x288 with 1 Axes>"
      ]
     },
     "metadata": {
      "needs_background": "light"
     },
     "output_type": "display_data"
    }
   ],
   "source": [
    "import gym\n",
    "from gym import wrappers\n",
    "\n",
    "env = env_global\n",
    "for action in record_actions:\n",
    "    plt.imshow(env.render(mode='rgb_array'))\n",
    "    display.display(plt.gcf())\n",
    "    display.clear_output(wait=True)\n",
    "    env.step(action)"
   ]
  },
  {
   "cell_type": "code",
   "execution_count": 39,
   "metadata": {},
   "outputs": [
    {
     "data": {
      "text/plain": [
       "False"
      ]
     },
     "execution_count": 39,
     "metadata": {},
     "output_type": "execute_result"
    }
   ],
   "source": [
    "done"
   ]
  },
  {
   "cell_type": "code",
   "execution_count": null,
   "metadata": {},
   "outputs": [],
   "source": []
  }
 ],
 "metadata": {
  "interpreter": {
   "hash": "a391b674f748329d9ab69a23d1142ccf13ef3980195c2e65c51d7033fef9ace8"
  },
  "kernelspec": {
   "display_name": "Python 3.8.5 ('decision-transformer-gym')",
   "language": "python",
   "name": "python3"
  },
  "language_info": {
   "codemirror_mode": {
    "name": "ipython",
    "version": 3
   },
   "file_extension": ".py",
   "mimetype": "text/x-python",
   "name": "python",
   "nbconvert_exporter": "python",
   "pygments_lexer": "ipython3",
   "version": "3.8.5"
  }
 },
 "nbformat": 4,
 "nbformat_minor": 2
}
